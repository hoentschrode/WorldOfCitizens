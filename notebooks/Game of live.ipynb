{
 "cells": [
  {
   "cell_type": "code",
   "execution_count": 1,
   "metadata": {},
   "outputs": [],
   "source": [
    "%matplotlib inline\n",
    "import matplotlib\n",
    "import matplotlib.pyplot as plt\n",
    "import ipywidgets as widgets\n",
    "import numpy as np\n",
    "from collections import Counter\n",
    "from typing import List\n",
    "\n",
    "from PIL import Image"
   ]
  },
  {
   "cell_type": "markdown",
   "metadata": {},
   "source": [
    "# Game of live game functions"
   ]
  },
  {
   "cell_type": "code",
   "execution_count": 2,
   "metadata": {},
   "outputs": [],
   "source": [
    "def normalize_x(x):\n",
    "    return x % width\n",
    "\n",
    "def normalize_y(y):\n",
    "    return y % height\n",
    "\n",
    "def run(world, n):\n",
    "    for gen in range(n):\n",
    "        world = next_generation(world)\n",
    "    return world\n",
    "\n",
    "def next_generation(world):\n",
    "    possible_cells = counts = neighbour_count(world)\n",
    "    return {\n",
    "        cell for cell in possible_cells if (counts[cell]==3) or (counts[cell]==2 and cell in world)\n",
    "    }\n",
    "\n",
    "def neighbour_count(world):\n",
    "    return Counter(neighbour for cell in world for neighbour in neighbours(cell))\n",
    "\n",
    "def neighbours(cell):\n",
    "    (x, y) = cell\n",
    "    return [\n",
    "        (normalize_x(x-1), normalize_y(y-1)),  (x, normalize_y(y-1)), (normalize_x(x+1), normalize_y(y-1)),\n",
    "        (normalize_x(x-1), y), (normalize_x(x+1), y),\n",
    "        (normalize_x(x-1), normalize_y(y+1)), (x, normalize_y(y+1)), (normalize_x(x+1), normalize_y(y+1))\n",
    "    ]\n",
    "    \n",
    "def create_random_world(number_of_cells=100):\n",
    "    world = set()\n",
    "    for c in range(number_of_cells):\n",
    "        x = np.random.randint(0, width)\n",
    "        y = np.random.randint(0, height)\n",
    "        cell = (x, y)\n",
    "        if cell not in world:\n",
    "            world.add(cell)\n",
    "    print('Created world with {} cells.'.format(len(world)))\n",
    "    return world\n",
    "\n",
    "def run(world, generations=100):\n",
    "    worlds = []\n",
    "    for gen in range(generations):\n",
    "        world = next_generation(world)\n",
    "        worlds.append(world)\n",
    "    print('Finished {} generations'.format(generations))\n",
    "    return worlds\n"
   ]
  },
  {
   "cell_type": "markdown",
   "metadata": {},
   "source": [
    "## Execution"
   ]
  },
  {
   "cell_type": "code",
   "execution_count": 3,
   "metadata": {},
   "outputs": [
    {
     "name": "stdout",
     "output_type": "stream",
     "text": [
      "Created world with 1641 cells.\n",
      "Finished 1000 generations\n"
     ]
    }
   ],
   "source": [
    "width = 100\n",
    "height = 50\n",
    "\n",
    "total_number_of_inital_cells = 2000\n",
    "total_number_of_generations = 1000\n",
    "\n",
    "world = create_random_world(total_number_of_inital_cells)\n",
    "generations = run(world, total_number_of_generations)"
   ]
  },
  {
   "cell_type": "markdown",
   "metadata": {},
   "source": [
    "# Visualization class"
   ]
  },
  {
   "cell_type": "code",
   "execution_count": 6,
   "metadata": {},
   "outputs": [],
   "source": [
    "class GameOfLiveVisualizer(object):\n",
    "    def __init__(self, generations: List[list]):\n",
    "        self._width = 100\n",
    "        self._height = 50\n",
    "        \n",
    "        self._generations = generations\n",
    "        self._current_generation_index = 0\n",
    "        self._population_per_generation = [len(generation) for generation in generations]\n",
    "        \n",
    "        self._init_chart()\n",
    "        \n",
    "    @property\n",
    "    def current_generation_index(self):\n",
    "        return self._current_generation_index\n",
    "    \n",
    "    @current_generation_index.setter\n",
    "    def current_generation_index(self, generation_index):\n",
    "        max_generation = len(self._population_per_generation)\n",
    "        self._current_generation_index = max(min(generation_index, max_generation), 0)\n",
    "        self._update()\n",
    "        \n",
    "    def _init_chart(self):\n",
    "        # Total population chart\n",
    "        _, self._population_chart_ax = plt.subplots()\n",
    "        population_chart = self._population_chart_ax.plot(self._population_per_generation)\n",
    "        self._generation_marker = self._population_chart_ax.axvline(x=self._current_generation_index, color='red')\n",
    "        self._population_chart_out = widgets.Output()\n",
    "        with self._population_chart_out:\n",
    "            plt.show(self._population_chart_ax.figure)\n",
    "            \n",
    "        # World as image\n",
    "        _, self._world_chart_ax = plt.subplots()\n",
    "        cm = matplotlib.colors.ListedColormap([(220/255, 220/255, 220/255), (100/255, 0, 0), (0, 140/255, 0), (0,0,0)],)\n",
    "        self._world_chart = self._world_chart_ax.imshow(self._get_current_generation_world_image(), cmap=cm, vmin=0, vmax=1)\n",
    "        self._world_chart_out = widgets.Output()\n",
    "        with self._world_chart_out:\n",
    "            plt.show(self._world_chart_ax.figure)\n",
    "            \n",
    "        # Generation selection slider and buttons\n",
    "        self._generation_slider = widgets.IntSlider(min=0, max=len(self._population_per_generation), value=self._current_generation_index, description='Generation')\n",
    "        next_generation_button = widgets.Button(description='Next')\n",
    "        prev_generation_button = widgets.Button(description='Previous')\n",
    "        \n",
    "        # Bind event handlers\n",
    "        self._generation_slider.observe(self._generation_slider_change, names='value')\n",
    "        next_generation_button.on_click(self._goto_next_generation)\n",
    "        prev_generation_button.on_click(self._goto_previous_generation)\n",
    "        \n",
    "        # Compose layout\n",
    "        grid = widgets.GridspecLayout(1, 3)\n",
    "        grid[0, 0] = self._population_chart_out\n",
    "        grid[0, 1] = self._world_chart_out\n",
    "        grid[0, 2] = widgets.VBox([self._generation_slider, widgets.HBox([prev_generation_button, next_generation_button])])\n",
    "        display(grid)\n",
    "            \n",
    "    def _generation_slider_change(self, value_change):\n",
    "        self.current_generation_index = value_change.new\n",
    "    \n",
    "    def _goto_next_generation(self, button):\n",
    "        self.current_generation_index += 1\n",
    "        \n",
    "    def _goto_previous_generation(self, button):\n",
    "        self.current_generation_index -= 1\n",
    "            \n",
    "    def _get_generation_world_image(self, generation_index):\n",
    "        img = np.zeros((self._height, self._width))\n",
    "        for cell in self._generations[generation_index]:\n",
    "            (x,y) = cell\n",
    "            img[y][x] = 1\n",
    "        return img\n",
    "            \n",
    "    def _get_current_generation_world_image(self):\n",
    "        return self._get_generation_world_image(self._current_generation_index)\n",
    "    \n",
    "    def _update(self):\n",
    "        # Update slider value\n",
    "        self._generation_slider.value = self.current_generation_index\n",
    "        \n",
    "        # Update generation marker\n",
    "        self._generation_marker.set_xdata(self._current_generation_index)\n",
    "        with self._population_chart_out:\n",
    "            self._population_chart_out.clear_output(wait=True)\n",
    "            display(self._population_chart_ax.figure)\n",
    "            \n",
    "        # Update world image\n",
    "        self._world_chart.set_data(self._get_current_generation_world_image())\n",
    "        with self._world_chart_out:\n",
    "            self._world_chart_out.clear_output(wait=True)\n",
    "            display(self._world_chart_ax.figure)\n",
    "            \n",
    "    def ex(self):\n",
    "        total = len(self._population_per_generation)\n",
    "        images = []\n",
    "        for i in range(total):\n",
    "            data = self._get_generation_world_image(i)\n",
    "            self._world_chart.set_data(data)\n",
    "            with self._world_chart_out:\n",
    "                self._world_chart_out.clear_output(wait=True)\n",
    "                display(self._world_chart_ax.figure)            \n",
    "            i = Image.new('RGB', (100, 50))\n",
    "            i.frombytes(self._world_chart.to_rgba(data, bytes=True, norm=True))\n",
    "            images.append(i)\n",
    "        images[0].save('animation.gif', format='GIF', append_images=images[1:], save_all=True, duration=100, loop=0)\n",
    "        \n",
    "        "
   ]
  },
  {
   "cell_type": "markdown",
   "metadata": {},
   "source": [
    "## Visualize"
   ]
  },
  {
   "cell_type": "code",
   "execution_count": 7,
   "metadata": {},
   "outputs": [
    {
     "data": {
      "image/png": "[encoded data removed]",
      "text/plain": [
       "<Figure size 432x288 with 1 Axes>"
      ]
     },
     "metadata": {
      "needs_background": "light"
     },
     "output_type": "display_data"
    },
    {
     "data": {
      "image/png": "[encoded data removed]",
      "text/plain": [
       "<Figure size 432x288 with 1 Axes>"
      ]
     },
     "metadata": {
      "needs_background": "light"
     },
     "output_type": "display_data"
    },
    {
     "data": {
      "application/vnd.jupyter.widget-view+json": {
       "model_id": "ed23f10e52074cad83c254e6b34138b0",
       "version_major": 2,
       "version_minor": 0
      },
      "text/plain": [
       "GridspecLayout(children=(Output(layout=Layout(grid_area='widget001')), Output(layout=Layout(grid_area='widget0…"
      ]
     },
     "metadata": {},
     "output_type": "display_data"
    }
   ],
   "source": [
    "viz = GameOfLiveVisualizer(generations)"
   ]
  },
  {
   "cell_type": "code",
   "execution_count": 23,
   "metadata": {},
   "outputs": [
    {
     "data": {
      "image/png": "[encoded data removed]",
      "text/plain": [
       "<Figure size 432x288 with 1 Axes>"
      ]
     },
     "metadata": {},
     "output_type": "display_data"
    }
   ],
   "source": [
    "viz.ex()"
   ]
  },
  {
   "cell_type": "code",
   "execution_count": null,
   "metadata": {},
   "outputs": [],
   "source": []
  }
 ],
 "metadata": {
  "kernelspec": {
   "display_name": "Python 3",
   "language": "python",
   "name": "python3"
  },
  "language_info": {
   "codemirror_mode": {
    "name": "ipython",
    "version": 3
   },
   "file_extension": ".py",
   "mimetype": "text/x-python",
   "name": "python",
   "nbconvert_exporter": "python",
   "pygments_lexer": "ipython3",
   "version": "3.7.6"
  }
 },
 "nbformat": 4,
 "nbformat_minor": 4
}
