{
 "cells": [
  {
   "cell_type": "code",
   "execution_count": 205,
   "metadata": {},
   "outputs": [],
   "source": [
    "%matplotlib inline\n",
    "\n",
    "import ipywidgets as widgets\n",
    "import numpy as np\n",
    "import matplotlib\n",
    "import matplotlib.pyplot as plt"
   ]
  },
  {
   "cell_type": "code",
   "execution_count": 206,
   "metadata": {},
   "outputs": [],
   "source": [
    "dummy_data = np.cumsum(np.random.randn(150)) + 100\n",
    "\n",
    "dummy_matrix = np.zeros((5, 7))\n",
    "dummy_matrix[2][2] = 1\n",
    "dummy_matrix[2][3] = 2\n"
   ]
  },
  {
   "cell_type": "code",
   "execution_count": 245,
   "metadata": {},
   "outputs": [
    {
     "data": {
      "application/vnd.jupyter.widget-view+json": {
       "model_id": "736e21a416254d41a8f177d8f87e76ea",
       "version_major": 2,
       "version_minor": 0
      },
      "text/plain": [
       "GridspecLayout(children=(Output(layout=Layout(grid_area='widget001')), Output(layout=Layout(grid_area='widget0…"
      ]
     },
     "metadata": {},
     "output_type": "display_data"
    }
   ],
   "source": [
    "_, population_chart_ax = plt.subplots()\n",
    "population_chart = population_chart_ax.plot(dummy_data)\n",
    "generation_marker = population_chart_ax.axvline(x=0, color='red')\n",
    "population_chart_out = widgets.Output()\n",
    "with population_chart_out:\n",
    "    plt.show(population_chart_ax.figure)\n",
    "        \n",
    "secondary_chart_out = widgets.Output()\n",
    "with secondary_chart_out:\n",
    "    fig1, axes1 = plt.subplots()\n",
    "    plt.show(fig1)\n",
    "    \n",
    "_, world_chart_ax = plt.subplots()\n",
    "world_chart = world_chart_ax.imshow(dummy_matrix)\n",
    "world_chart_out = widgets.Output()\n",
    "with world_chart_out:\n",
    "    plt.show(world_chart_ax.figure)\n",
    "    \n",
    "generation_slider = widgets.IntSlider(min=0, max=100, value=0, description='Generation')\n",
    "\n",
    "def update_chart(value):\n",
    "    generation_marker.set_xdata(value)\n",
    "    with population_chart_out:\n",
    "        population_chart_out.clear_output(wait=True)\n",
    "        display(population_chart_ax.figure)\n",
    "\n",
    "def generation_slider_change(value):\n",
    "    update_chart(value.new)\n",
    "    \n",
    "generation_slider.observe(generation_slider_change, names='value')\n",
    "\n",
    "grid = widgets.GridspecLayout(2, 3)\n",
    "grid[0, 0] = population_chart_out\n",
    "grid[0, 1] = secondary_chart_out\n",
    "grid[1, 0:2] = world_chart_out\n",
    "grid[0:, 2] = widgets.VBox([generation_slider])\n",
    "display(grid)"
   ]
  },
  {
   "cell_type": "code",
   "execution_count": 246,
   "metadata": {},
   "outputs": [
    {
     "data": {
      "text/plain": [
       "array([[0., 0., 0., 0., 0., 0., 0.],\n",
       "       [0., 0., 0., 0., 0., 0., 0.],\n",
       "       [0., 0., 1., 2., 0., 0., 0.],\n",
       "       [0., 0., 0., 0., 0., 0., 0.],\n",
       "       [0., 0., 0., 0., 0., 0., 0.]])"
      ]
     },
     "execution_count": 246,
     "metadata": {},
     "output_type": "execute_result"
    }
   ],
   "source": [
    "dummy_matrix"
   ]
  },
  {
   "cell_type": "code",
   "execution_count": 247,
   "metadata": {},
   "outputs": [
    {
     "data": {
      "text/plain": [
       "3.0"
      ]
     },
     "execution_count": 247,
     "metadata": {},
     "output_type": "execute_result"
    }
   ],
   "source": [
    "dummy_matrix.sum()"
   ]
  },
  {
   "cell_type": "code",
   "execution_count": null,
   "metadata": {},
   "outputs": [],
   "source": []
  }
 ],
 "metadata": {
  "kernelspec": {
   "display_name": "Python 3",
   "language": "python",
   "name": "python3"
  },
  "language_info": {
   "codemirror_mode": {
    "name": "ipython",
    "version": 3
   },
   "file_extension": ".py",
   "mimetype": "text/x-python",
   "name": "python",
   "nbconvert_exporter": "python",
   "pygments_lexer": "ipython3",
   "version": "3.7.6"
  }
 },
 "nbformat": 4,
 "nbformat_minor": 4
}
